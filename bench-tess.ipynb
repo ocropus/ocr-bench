{
 "cells": [
  {
   "cell_type": "code",
   "execution_count": 1,
   "metadata": {},
   "outputs": [],
   "source": [
    "from PIL import Image, ImageOps\n",
    "import webdataset as wds\n",
    "import pytesseract\n",
    "from itertools import islice\n",
    "import editdistance\n",
    "import utils\n",
    "from IPython.display import display, Image, Markdown\n"
   ]
  },
  {
   "cell_type": "code",
   "execution_count": 2,
   "metadata": {},
   "outputs": [],
   "source": [
    "show = False"
   ]
  },
  {
   "cell_type": "code",
   "execution_count": 3,
   "metadata": {},
   "outputs": [],
   "source": [
    "\n",
    "dataset = wds.WebDataset(\"./uw3-test.tar\").decode(\"pil\")\n",
    "ocrerrs = utils.OCRErrors()\n",
    "for i, sample in enumerate(islice(dataset, 200)):\n",
    "    image = ImageOps.invert(sample[\"png\"])\n",
    "    gt = sample[\"txt\"]\n",
    "    pred = pytesseract.image_to_string(image)\n",
    "    errs = ocrerrs.add(pred, gt)[0]\n",
    "    if show and errs > 0:\n",
    "        display(Markdown(\"---\"))\n",
    "        print(i, errs, len(gt))\n",
    "        display(image)\n",
    "        display(Markdown(gt))\n",
    "        display(Markdown(pred))\n"
   ]
  },
  {
   "cell_type": "code",
   "execution_count": 4,
   "metadata": {},
   "outputs": [
    {
     "name": "stdout",
     "output_type": "stream",
     "text": [
      "Normalized: 22/9277 (0.0024)\n",
      "Text only: 14/8975 (0.0016)\n"
     ]
    }
   ],
   "source": [
    "print(ocrerrs)"
   ]
  }
 ],
 "metadata": {
  "kernelspec": {
   "display_name": "venv",
   "language": "python",
   "name": "python3"
  },
  "language_info": {
   "codemirror_mode": {
    "name": "ipython",
    "version": 3
   },
   "file_extension": ".py",
   "mimetype": "text/x-python",
   "name": "python",
   "nbconvert_exporter": "python",
   "pygments_lexer": "ipython3",
   "version": "3.10.12"
  }
 },
 "nbformat": 4,
 "nbformat_minor": 2
}
